{
 "cells": [
  {
   "cell_type": "code",
   "execution_count": 1,
   "id": "d69a1bb0",
   "metadata": {},
   "outputs": [],
   "source": [
    "import tensorflow as tf\n",
    "import keras\n",
    "from tensorflow.keras import layers"
   ]
  },
  {
   "cell_type": "code",
   "execution_count": 2,
   "id": "c13df00e",
   "metadata": {},
   "outputs": [
    {
     "data": {
      "text/plain": [
       "'2.8.0'"
      ]
     },
     "execution_count": 2,
     "metadata": {},
     "output_type": "execute_result"
    }
   ],
   "source": [
    "tf.__version__"
   ]
  },
  {
   "cell_type": "markdown",
   "id": "9ee7c421",
   "metadata": {},
   "source": [
    "## Here is a simplified model used on CIFAR-10 "
   ]
  },
  {
   "cell_type": "code",
   "execution_count": 3,
   "id": "90bba7e1",
   "metadata": {},
   "outputs": [],
   "source": [
    "class Model(tf.keras.Model):\n",
    "    def __init__(self):\n",
    "        super().__init__()\n",
    "        self.conv1=layers.Conv2D(32,kernel_size=5,strides=2)\n",
    "        self.conv2=layers.Conv2D(64,kernel_size=5,strides=2)\n",
    "        self.flat=layers.Flatten()\n",
    "        self.dense=layers.Dense(10)\n",
    "        \n",
    "    def call(self,inputs):\n",
    "        x=self.conv1(inputs)\n",
    "        x=self.conv2(inputs)\n",
    "        x=self.flat(x)\n",
    "        x=self.dense(x)\n",
    "        return x"
   ]
  },
  {
   "cell_type": "code",
   "execution_count": 4,
   "id": "9c1652a7",
   "metadata": {},
   "outputs": [],
   "source": [
    "model=Model()\n",
    "model.build((None,32,32,3))"
   ]
  },
  {
   "cell_type": "markdown",
   "id": "4d6fdce6",
   "metadata": {},
   "source": [
    "## 'tf.keras.utils.plot_model' failed to directly plot the subclassed model"
   ]
  },
  {
   "cell_type": "code",
   "execution_count": 5,
   "id": "acbd4f28",
   "metadata": {},
   "outputs": [
    {
     "data": {
      "image/png": "[encoded data removed]",
      "text/plain": [
       "<IPython.core.display.Image object>"
      ]
     },
     "execution_count": 5,
     "metadata": {},
     "output_type": "execute_result"
    }
   ],
   "source": [
    "tf.keras.utils.plot_model(model)"
   ]
  },
  {
   "cell_type": "code",
   "execution_count": null,
   "id": "2bff45e7",
   "metadata": {},
   "outputs": [],
   "source": []
  },
  {
   "cell_type": "markdown",
   "id": "1f1df681",
   "metadata": {},
   "source": [
    "## Import the decorator and define a build function"
   ]
  },
  {
   "cell_type": "code",
   "execution_count": 6,
   "id": "0af94292",
   "metadata": {},
   "outputs": [],
   "source": [
    "from functools import wraps\n",
    "def plotable(silent=False):\n",
    "    '''\n",
    "    Used on model.build to call tf.keras.utils.plot_model\n",
    "    '''\n",
    "    \n",
    "    def decorate(func):\n",
    "        @wraps(func)\n",
    "        def wrapper(self,input_shape):\n",
    "            result=func(self,input_shape)\n",
    "\n",
    "            if not silent:\n",
    "                from tensorflow.keras import layers\n",
    "                from IPython.display import display\n",
    "                if isinstance(input_shape,(tuple,tf.TensorShape)):\n",
    "                    inputs=layers.Input(input_shape[1:])\n",
    "                elif isinstance(input_shape,list):\n",
    "                    inputs=[layers.Input(s[1:]) for s in input_shape]\n",
    "                else:\n",
    "                    raise AssertionError\n",
    "\n",
    "                outputs=self.call(inputs)\n",
    "                model=tf.keras.Model(inputs=inputs,outputs=outputs)\n",
    "                display(tf.keras.utils.plot_model(model,show_shapes=True))\n",
    "            return result\n",
    "        return wrapper\n",
    "    return decorate"
   ]
  },
  {
   "cell_type": "code",
   "execution_count": 7,
   "id": "ed2b0007",
   "metadata": {},
   "outputs": [],
   "source": [
    "class Model(tf.keras.Model):\n",
    "    def __init__(self):\n",
    "        super().__init__()\n",
    "        self.conv1=layers.Conv2D(32,kernel_size=5,strides=2)\n",
    "        self.conv2=layers.Conv2D(64,kernel_size=5,strides=2)\n",
    "        self.flat=layers.Flatten()\n",
    "        self.dense=layers.Dense(10)\n",
    "        \n",
    "    def call(self,inputs):\n",
    "        x=self.conv1(inputs)\n",
    "        x=self.conv2(inputs)\n",
    "        x=self.flat(x)\n",
    "        x=self.dense(x)\n",
    "        return x\n",
    "    \n",
    "    # The only change\n",
    "    @plotable()\n",
    "    def build(self,input_shape):\n",
    "        super().build(input_shape)"
   ]
  },
  {
   "cell_type": "code",
   "execution_count": 8,
   "id": "77e265e9",
   "metadata": {},
   "outputs": [
    {
     "data": {
      "image/png": "[encoded data removed]",
      "text/plain": [
       "<IPython.core.display.Image object>"
      ]
     },
     "metadata": {},
     "output_type": "display_data"
    }
   ],
   "source": [
    "model=Model()\n",
    "model.build((None,32,32,3))"
   ]
  },
  {
   "cell_type": "code",
   "execution_count": null,
   "id": "7b00f60f",
   "metadata": {},
   "outputs": [],
   "source": []
  }
 ],
 "metadata": {
  "kernelspec": {
   "display_name": "Python 3 (ipykernel)",
   "language": "python",
   "name": "python3"
  },
  "language_info": {
   "codemirror_mode": {
    "name": "ipython",
    "version": 3
   },
   "file_extension": ".py",
   "mimetype": "text/x-python",
   "name": "python",
   "nbconvert_exporter": "python",
   "pygments_lexer": "ipython3",
   "version": "3.9.7"
  }
 },
 "nbformat": 4,
 "nbformat_minor": 5
}
