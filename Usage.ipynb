{
 "cells": [
  {
   "cell_type": "code",
   "execution_count": 1,
   "id": "d69a1bb0",
   "metadata": {
    "ExecuteTime": {
     "end_time": "2022-03-02T14:19:30.404926Z",
     "start_time": "2022-03-02T14:19:28.477341Z"
    }
   },
   "outputs": [],
   "source": [
    "import tensorflow as tf\n",
    "import keras\n",
    "from tensorflow.keras import layers"
   ]
  },
  {
   "cell_type": "code",
   "execution_count": 2,
   "id": "c13df00e",
   "metadata": {
    "ExecuteTime": {
     "end_time": "2022-03-02T14:19:30.420598Z",
     "start_time": "2022-03-02T14:19:30.407609Z"
    }
   },
   "outputs": [
    {
     "data": {
      "text/plain": [
       "'2.6.3'"
      ]
     },
     "execution_count": 2,
     "metadata": {},
     "output_type": "execute_result"
    }
   ],
   "source": [
    "tf.__version__"
   ]
  },
  {
   "cell_type": "markdown",
   "id": "9ee7c421",
   "metadata": {},
   "source": [
    "## Here is a simplified model used on CIFAR-10 "
   ]
  },
  {
   "cell_type": "code",
   "execution_count": 3,
   "id": "90bba7e1",
   "metadata": {
    "ExecuteTime": {
     "end_time": "2022-03-02T14:19:30.436327Z",
     "start_time": "2022-03-02T14:19:30.423493Z"
    }
   },
   "outputs": [],
   "source": [
    "class Model(tf.keras.Model):\n",
    "    def __init__(self):\n",
    "        super().__init__()\n",
    "        self.conv1=layers.Conv2D(32,kernel_size=5,strides=2)\n",
    "        self.conv2=layers.Conv2D(64,kernel_size=5,strides=2)\n",
    "        self.flat=layers.Flatten()\n",
    "        self.dense=layers.Dense(10)\n",
    "        \n",
    "    def call(self,inputs):\n",
    "        x=self.conv1(inputs)\n",
    "        x=self.conv2(inputs)\n",
    "        x=self.flat(x)\n",
    "        x=self.dense(x)\n",
    "        return x\n",
    "    \n",
    "    # Here is one way to plot a subclasssed model\n",
    "    def plot(self,input_shape):\n",
    "        x=layers.Input(input_shape)\n",
    "        y=self.call(x)\n",
    "        model=tf.keras.Model(inputs=x,outputs=y)\n",
    "        return tf.keras.utils.plot_model(model,show_shapes=True)"
   ]
  },
  {
   "cell_type": "code",
   "execution_count": 4,
   "id": "9c1652a7",
   "metadata": {
    "ExecuteTime": {
     "end_time": "2022-03-02T14:19:31.254518Z",
     "start_time": "2022-03-02T14:19:30.439304Z"
    }
   },
   "outputs": [],
   "source": [
    "model=Model()\n",
    "model.build((None,32,32,3))"
   ]
  },
  {
   "cell_type": "code",
   "execution_count": 5,
   "id": "6f7bbd49",
   "metadata": {
    "ExecuteTime": {
     "end_time": "2022-03-02T14:19:31.412635Z",
     "start_time": "2022-03-02T14:19:31.257203Z"
    }
   },
   "outputs": [
    {
     "data": {
      "image/png": "[encoded data removed]",
      "text/plain": [
       "<IPython.core.display.Image object>"
      ]
     },
     "execution_count": 5,
     "metadata": {},
     "output_type": "execute_result"
    }
   ],
   "source": [
    "model.plot((32,32,3))"
   ]
  },
  {
   "cell_type": "markdown",
   "id": "4d6fdce6",
   "metadata": {},
   "source": [
    "## 'tf.keras.utils.plot_model' cannot directly plot the subclassed model"
   ]
  },
  {
   "cell_type": "code",
   "execution_count": 6,
   "id": "acbd4f28",
   "metadata": {
    "ExecuteTime": {
     "end_time": "2022-03-02T14:19:31.585549Z",
     "start_time": "2022-03-02T14:19:31.414507Z"
    }
   },
   "outputs": [
    {
     "data": {
      "image/png": "[encoded data removed]",
      "text/plain": [
       "<IPython.core.display.Image object>"
      ]
     },
     "execution_count": 6,
     "metadata": {},
     "output_type": "execute_result"
    }
   ],
   "source": [
    "tf.keras.utils.plot_model(model)"
   ]
  },
  {
   "cell_type": "markdown",
   "id": "1f1df681",
   "metadata": {},
   "source": [
    "## Import the decorator and define a build function"
   ]
  },
  {
   "cell_type": "code",
   "execution_count": 7,
   "id": "0af94292",
   "metadata": {
    "ExecuteTime": {
     "end_time": "2022-03-02T14:19:31.600693Z",
     "start_time": "2022-03-02T14:19:31.587557Z"
    }
   },
   "outputs": [],
   "source": [
    "def plot_subclass_model(silent=False,show_shapes=True,**kwargs):\n",
    "    '''\n",
    "    This is a supplementary decorator to plot a subclassed model.\n",
    "    Decorate it on Model.build to call `tf.keras.utils.plot_model`.\n",
    "    Example:\n",
    "    \n",
    "    ```python\n",
    "    class MyModel(tf.keras.Model):\n",
    "    \n",
    "      def __init__(self):\n",
    "        super().__init__()\n",
    "        self.dense = tf.keras.layers.Dense(4, activation=tf.nn.relu)\n",
    "    \n",
    "      def call(self, inputs):\n",
    "        return self.dense(inputs)\n",
    "        \n",
    "      @plot_subclass_model()\n",
    "      def build(self,input_shape):\n",
    "        super().build(input_shape)\n",
    "        \n",
    "    model=MyModel()\n",
    "    model.build((None,32,32,3))\n",
    "    ```\n",
    "    \n",
    "    Args:\n",
    "      silent: Whether to plot the model. If set to True, it will do nothing other than the `build` function. Default is False.\n",
    "      kwargs: Args passed to `plot_model`. Arg `show_shapes` will pass True by default. See more in `tf.keras.utils.plot_model`.\n",
    "    '''\n",
    "    from functools import wraps\n",
    "    \n",
    "    kwargs['show_shapes']='show_shapes'\n",
    "    \n",
    "    def decorate(func):\n",
    "        @wraps(func)\n",
    "        def wrapper(self,input_shape):\n",
    "            result=func(self,input_shape)\n",
    "\n",
    "            if not silent:\n",
    "                from tensorflow.keras import layers\n",
    "                if isinstance(input_shape,(tuple,tf.TensorShape)):\n",
    "                    inputs=layers.Input(input_shape[1:])\n",
    "                elif isinstance(input_shape,list):\n",
    "                    inputs=[layers.Input(s[1:]) for s in input_shape]\n",
    "                else:\n",
    "                    raise ValueError(f'Expect input_shape to be a shape or a list of shape, but received {type(input_shape)}')\n",
    "\n",
    "                outputs=self.call(inputs)\n",
    "                model=tf.keras.Model(inputs=inputs,outputs=outputs)\n",
    "                plot_result=tf.keras.utils.plot_model(model,**kwargs)\n",
    "                try:\n",
    "                    from IPython.display import display\n",
    "                    display(plot_result)\n",
    "                except ImportError:\n",
    "                    pass\n",
    "            return result\n",
    "        return wrapper\n",
    "    return decorate"
   ]
  },
  {
   "cell_type": "code",
   "execution_count": 8,
   "id": "ed2b0007",
   "metadata": {
    "ExecuteTime": {
     "end_time": "2022-03-02T14:19:31.616479Z",
     "start_time": "2022-03-02T14:19:31.604653Z"
    }
   },
   "outputs": [],
   "source": [
    "class Model(tf.keras.Model):\n",
    "    def __init__(self):\n",
    "        super().__init__()\n",
    "        self.conv1=layers.Conv2D(32,kernel_size=5,strides=2)\n",
    "        self.conv2=layers.Conv2D(64,kernel_size=5,strides=2)\n",
    "        self.flat=layers.Flatten()\n",
    "        self.dense=layers.Dense(10)\n",
    "        \n",
    "    def call(self,inputs):\n",
    "        x=self.conv1(inputs)\n",
    "        x=self.conv2(inputs)\n",
    "        x=self.flat(x)\n",
    "        x=self.dense(x)\n",
    "        return x\n",
    "    \n",
    "    # The only change\n",
    "    @plot_subclass_model()\n",
    "    def build(self,input_shape):\n",
    "        super().build(input_shape)"
   ]
  },
  {
   "cell_type": "code",
   "execution_count": 9,
   "id": "77e265e9",
   "metadata": {
    "ExecuteTime": {
     "end_time": "2022-03-02T14:19:31.822488Z",
     "start_time": "2022-03-02T14:19:31.619481Z"
    }
   },
   "outputs": [
    {
     "data": {
      "image/png": "[encoded data removed]",
      "text/plain": [
       "<IPython.core.display.Image object>"
      ]
     },
     "metadata": {},
     "output_type": "display_data"
    }
   ],
   "source": [
    "model=Model()\n",
    "model.build((None,32,32,3))"
   ]
  },
  {
   "cell_type": "code",
   "execution_count": null,
   "id": "7b00f60f",
   "metadata": {},
   "outputs": [],
   "source": []
  }
 ],
 "metadata": {
  "kernelspec": {
   "display_name": "tensorflow",
   "language": "python",
   "name": "tf"
  },
  "language_info": {
   "codemirror_mode": {
    "name": "ipython",
    "version": 3
   },
   "file_extension": ".py",
   "mimetype": "text/x-python",
   "name": "python",
   "nbconvert_exporter": "python",
   "pygments_lexer": "ipython3",
   "version": "3.9.7"
  },
  "varInspector": {
   "cols": {
    "lenName": 16,
    "lenType": 16,
    "lenVar": 40
   },
   "kernels_config": {
    "python": {
     "delete_cmd_postfix": "",
     "delete_cmd_prefix": "del ",
     "library": "var_list.py",
     "varRefreshCmd": "print(var_dic_list())"
    },
    "r": {
     "delete_cmd_postfix": ") ",
     "delete_cmd_prefix": "rm(",
     "library": "var_list.r",
     "varRefreshCmd": "cat(var_dic_list()) "
    }
   },
   "types_to_exclude": [
    "module",
    "function",
    "builtin_function_or_method",
    "instance",
    "_Feature"
   ],
   "window_display": false
  }
 },
 "nbformat": 4,
 "nbformat_minor": 5
}
